{
  "nbformat": 4,
  "nbformat_minor": 0,
  "metadata": {
    "colab": {
      "name": "Untitled0.ipynb",
      "provenance": [],
      "authorship_tag": "ABX9TyMPXTpWBeWlJC1iF9qqQ6bI",
      "include_colab_link": true
    },
    "kernelspec": {
      "display_name": "Python 3",
      "name": "python3"
    },
    "language_info": {
      "name": "python"
    }
  },
  "cells": [
    {
      "cell_type": "markdown",
      "metadata": {
        "id": "view-in-github",
        "colab_type": "text"
      },
      "source": [
        "<a href=\"https://colab.research.google.com/github/mansoorkhan1999/mansoorkhan1999/blob/main/COLAB.ipynb\" target=\"_parent\"><img src=\"https://colab.research.google.com/assets/colab-badge.svg\" alt=\"Open In Colab\"/></a>"
      ]
    },
    {
      "cell_type": "code",
      "metadata": {
        "id": "LIsGUf-Zdqf8"
      },
      "source": [
        "import numpy as np"
      ],
      "execution_count": null,
      "outputs": []
    },
    {
      "cell_type": "code",
      "metadata": {
        "id": "z91qpoHLd4ck"
      },
      "source": [
        "b=np.arange(12).reshape(4,3)"
      ],
      "execution_count": null,
      "outputs": []
    },
    {
      "cell_type": "code",
      "metadata": {
        "colab": {
          "base_uri": "https://localhost:8080/"
        },
        "id": "CwaR51-aes4P",
        "outputId": "f00333d3-bc22-49f7-c413-11202747d66c"
      },
      "source": [
        "b\n"
      ],
      "execution_count": null,
      "outputs": [
        {
          "data": {
            "text/plain": [
              "array([[ 0,  1,  2],\n",
              "       [ 3,  4,  5],\n",
              "       [ 6,  7,  8],\n",
              "       [ 9, 10, 11]])"
            ]
          },
          "execution_count": 13,
          "metadata": {},
          "output_type": "execute_result"
        }
      ]
    },
    {
      "cell_type": "code",
      "metadata": {
        "colab": {
          "base_uri": "https://localhost:8080/"
        },
        "id": "jgsLNeCDetW5",
        "outputId": "2ef112b7-2f2c-4579-ff9f-41557b4b45c0"
      },
      "source": [
        "b.max(axis=0)\n"
      ],
      "execution_count": null,
      "outputs": [
        {
          "data": {
            "text/plain": [
              "array([ 9, 10, 11])"
            ]
          },
          "execution_count": 16,
          "metadata": {},
          "output_type": "execute_result"
        }
      ]
    },
    {
      "cell_type": "code",
      "metadata": {
        "colab": {
          "base_uri": "https://localhost:8080/"
        },
        "id": "RJu0oB44gy5W",
        "outputId": "9fe6122f-92cb-4bc0-ba30-c53af02798e6"
      },
      "source": [
        "\n",
        "f=int(input('Enter number '))\n",
        "for i in range(f):\n",
        "   i=f%2\n",
        "   print (i)\n",
        "   \n",
        "    \n"
      ],
      "execution_count": null,
      "outputs": [
        {
          "name": "stdout",
          "output_type": "stream",
          "text": [
            "Enter number 11\n",
            "1\n",
            "1\n",
            "1\n",
            "1\n",
            "1\n",
            "1\n",
            "1\n",
            "1\n",
            "1\n",
            "1\n",
            "1\n"
          ]
        }
      ]
    },
    {
      "cell_type": "code",
      "metadata": {
        "colab": {
          "base_uri": "https://localhost:8080/"
        },
        "id": "NJsbeqrCgzet",
        "outputId": "e18b1183-5a43-4720-b235-3e84e5c8aaab"
      },
      "source": [
        "a=input('Enter Strings : ')\n",
        "stack=[]\n",
        "for ch in a:\n",
        "  if(stack and ch==stack[-1]):\n",
        "    stack.pop()\n",
        "  else: \n",
        "    stack.append(ch)\n",
        "print(stack)\n"
      ],
      "execution_count": null,
      "outputs": [
        {
          "name": "stdout",
          "output_type": "stream",
          "text": [
            "Enter Strings : aacaacs\n",
            "['s']\n"
          ]
        }
      ]
    },
    {
      "cell_type": "code",
      "metadata": {
        "colab": {
          "base_uri": "https://localhost:8080/",
          "height": 35
        },
        "id": "_gggpZ-u10lh",
        "outputId": "0939527a-f562-45d8-c0d9-00a8883e6167"
      },
      "source": [
        "a"
      ],
      "execution_count": null,
      "outputs": [
        {
          "data": {
            "application/vnd.google.colaboratory.intrinsic+json": {
              "type": "string"
            },
            "text/plain": [
              "'asssbc'"
            ]
          },
          "execution_count": 2,
          "metadata": {},
          "output_type": "execute_result"
        }
      ]
    },
    {
      "cell_type": "code",
      "metadata": {
        "id": "JgsbQ5INiJ4x"
      },
      "source": [
        "from collections import deque\n"
      ],
      "execution_count": null,
      "outputs": []
    },
    {
      "cell_type": "code",
      "metadata": {
        "colab": {
          "base_uri": "https://localhost:8080/"
        },
        "id": "h-vntKb2iJnM",
        "outputId": "48836e50-9995-4a3d-f258-095fdde2c29b"
      },
      "source": [
        "from collections import deque\n",
        "T=deque()\n",
        "S = deque()\n",
        "num=int(input('Enter how many number  '))\n",
        "\n",
        "for i in range(num):\n",
        "  T.append(i)\n",
        "while (len(T)!=0):\n",
        "  S.append(T.pop())\n",
        "print(S)\n",
        "\n",
        "from collections import deque\n",
        "T=deque()\n",
        "S = deque()\n",
        "def transfer(self,self):\n",
        "    for i in range(num):\n",
        "       T.append(i)\n",
        "    while (len(T)!=0):\n",
        "       S.append(T.pop())`\n",
        "\n"
      ],
      "execution_count": null,
      "outputs": [
        {
          "name": "stdout",
          "output_type": "stream",
          "text": [
            "Enter how many number  9\n",
            "deque([8, 7, 6, 5, 4, 3, 2, 1, 0])\n"
          ]
        }
      ]
    },
    {
      "cell_type": "code",
      "metadata": {
        "colab": {
          "background_save": true,
          "base_uri": "https://localhost:8080/",
          "height": 374
        },
        "id": "5Lxm6Th2_kNO",
        "outputId": "8dfcdebd-a555-44be-b828-220b1b5a80a4"
      },
      "source": [
        "def reverse_list(S):\n",
        "    temp = Stack()\n",
        "    for e in S:\n",
        "        temp.push(e)\n",
        "    \n",
        "    for i in range(len(S)):\n",
        "        S[i] = temp.pop()\n",
        "\n",
        "lists = [[1,2,3,4,5,6],\n",
        "        [3,2,5,6,7,8,9,5],\n",
        "        [9,8,7,6,5,4,3,2,1]]\n",
        "\n",
        "for l in lists:\n",
        "    print ('Before: ', l)\n",
        "    reverse_list(l)\n",
        "    print('After:  ', l)\n",
        "    print()\n"
      ],
      "execution_count": null,
      "outputs": [
        {
          "name": "stdout",
          "output_type": "stream",
          "text": [
            "deque([])\n"
          ]
        }
      ]
    },
    {
      "cell_type": "code",
      "metadata": {
        "colab": {
          "base_uri": "https://localhost:8080/",
          "height": 253
        },
        "id": "_ftWjEuLACKy",
        "outputId": "36f9a1d7-63c2-4a8e-b6c3-f5d4bf40ec55"
      },
      "source": [
        "from collections import deque\n",
        "counter =0\n",
        "stack=deque()\n",
        "wstr=input(\"Enter string\")\n",
        "for item in wstr :\n",
        "  if (item=='('or item=='['or item=='{'):\n",
        "    stack.append(item)\n",
        "    \n",
        "\n",
        "  elif(item==')'or item==']'or item=='}'):\n",
        "    stack.pop()\n",
        "    \n",
        "if stack[]:\n",
        "  print(\"Balanced\")\n",
        "else :\n",
        "  print(\"Unbalanced\")\n"
      ],
      "execution_count": null,
      "outputs": [
        {
          "name": "stdout",
          "output_type": "stream",
          "text": [
            "Enter string{}\n"
          ]
        },
        {
          "ename": "NameError",
          "evalue": "ignored",
          "output_type": "error",
          "traceback": [
            "\u001b[0;31m---------------------------------------------------------------------------\u001b[0m",
            "\u001b[0;31mNameError\u001b[0m                                 Traceback (most recent call last)",
            "\u001b[0;32m<ipython-input-66-989a8671db1d>\u001b[0m in \u001b[0;36m<module>\u001b[0;34m()\u001b[0m\n\u001b[1;32m     11\u001b[0m     \u001b[0mstack\u001b[0m\u001b[0;34m.\u001b[0m\u001b[0mpop\u001b[0m\u001b[0;34m(\u001b[0m\u001b[0;34m)\u001b[0m\u001b[0;34m\u001b[0m\u001b[0;34m\u001b[0m\u001b[0m\n\u001b[1;32m     12\u001b[0m \u001b[0;34m\u001b[0m\u001b[0m\n\u001b[0;32m---> 13\u001b[0;31m \u001b[0;32mif\u001b[0m \u001b[0mstack\u001b[0m\u001b[0;34m[\u001b[0m\u001b[0mempty\u001b[0m\u001b[0;34m]\u001b[0m\u001b[0;34m:\u001b[0m\u001b[0;34m\u001b[0m\u001b[0;34m\u001b[0m\u001b[0m\n\u001b[0m\u001b[1;32m     14\u001b[0m   \u001b[0mprint\u001b[0m\u001b[0;34m(\u001b[0m\u001b[0;34m\"Balanced\"\u001b[0m\u001b[0;34m)\u001b[0m\u001b[0;34m\u001b[0m\u001b[0;34m\u001b[0m\u001b[0m\n\u001b[1;32m     15\u001b[0m \u001b[0;32melse\u001b[0m \u001b[0;34m:\u001b[0m\u001b[0;34m\u001b[0m\u001b[0;34m\u001b[0m\u001b[0m\n",
            "\u001b[0;31mNameError\u001b[0m: name 'empty' is not defined"
          ]
        }
      ]
    },
    {
      "cell_type": "code",
      "metadata": {
        "colab": {
          "base_uri": "https://localhost:8080/"
        },
        "id": "rn0JiOFJKoCj",
        "outputId": "8e685e28-37cc-4bf5-e5e7-c56a5aca994b"
      },
      "source": [
        "string=input(\"Enter a string to check Palendrom\")\n",
        "string2=\"\"\n",
        "stack=[]\n",
        "for i in string:\n",
        " stack.append(i)\n",
        "while len(stack)!=0:\n",
        " string2=string2+stack.pop()\n",
        "if(string2==string):\n",
        " print(\"The entered string is Palendrom\")\n",
        "else:\n",
        " print(\"The entered string is not a Palendrom\")"
      ],
      "execution_count": null,
      "outputs": [
        {
          "name": "stdout",
          "output_type": "stream",
          "text": [
            "Enter a string{))\n",
            "The entered string is not a Palendrom\n"
          ]
        }
      ]
    },
    {
      "cell_type": "code",
      "metadata": {
        "colab": {
          "base_uri": "https://localhost:8080/",
          "height": 339
        },
        "id": "sGAAcDkti-l0",
        "outputId": "a2d1dad6-3c8a-4d96-cb96-3b1fc7da1ec1"
      },
      "source": [
        "def arePairs(open,close):\n",
        "    if open=='[' and close==']':\n",
        "        return True\n",
        "    if open=='{' and close=='}':\n",
        "        return True\n",
        "    if open=='(' and close==')':\n",
        "        return True\n",
        "    return False\n",
        "def Balanced(A):\n",
        "    stack=[]\n",
        "    for i in range(len(A)):\n",
        "        if A[i]=='[' or A[i]=='{' or A[i]=='(':\n",
        "            stack.append(A[i])\n",
        "        elif A[i] == ']' or A[i] == '}' or A[i] == ')':\n",
        "            if arePairs(stack[-1],A[i] or len(stack)!=0 ):\n",
        "                stack.pop()\n",
        "            else :\n",
        "                return False\n",
        "    if len(stack)==0:\n",
        "        return True\n",
        "        print(\"Balanced \")\n",
        "    else:\n",
        "        return False\n",
        "        print(\"UnBalanced\")\n",
        "\n",
        "A=input(\"Enter Parenthesis : \")\n",
        "print(Balanced(A))\n"
      ],
      "execution_count": null,
      "outputs": [
        {
          "name": "stdout",
          "output_type": "stream",
          "text": [
            "Enter Parenthesis : ))(\n"
          ]
        },
        {
          "ename": "IndexError",
          "evalue": "ignored",
          "output_type": "error",
          "traceback": [
            "\u001b[0;31m---------------------------------------------------------------------------\u001b[0m",
            "\u001b[0;31mIndexError\u001b[0m                                Traceback (most recent call last)",
            "\u001b[0;32m<ipython-input-33-a61ad651451b>\u001b[0m in \u001b[0;36m<module>\u001b[0;34m()\u001b[0m\n\u001b[1;32m     25\u001b[0m \u001b[0;34m\u001b[0m\u001b[0m\n\u001b[1;32m     26\u001b[0m \u001b[0mA\u001b[0m\u001b[0;34m=\u001b[0m\u001b[0minput\u001b[0m\u001b[0;34m(\u001b[0m\u001b[0;34m\"Enter Parenthesis : \"\u001b[0m\u001b[0;34m)\u001b[0m\u001b[0;34m\u001b[0m\u001b[0;34m\u001b[0m\u001b[0m\n\u001b[0;32m---> 27\u001b[0;31m \u001b[0mprint\u001b[0m\u001b[0;34m(\u001b[0m\u001b[0mBalanced\u001b[0m\u001b[0;34m(\u001b[0m\u001b[0mA\u001b[0m\u001b[0;34m)\u001b[0m\u001b[0;34m)\u001b[0m\u001b[0;34m\u001b[0m\u001b[0;34m\u001b[0m\u001b[0m\n\u001b[0m",
            "\u001b[0;32m<ipython-input-33-a61ad651451b>\u001b[0m in \u001b[0;36mBalanced\u001b[0;34m(A)\u001b[0m\n\u001b[1;32m     13\u001b[0m             \u001b[0mstack\u001b[0m\u001b[0;34m.\u001b[0m\u001b[0mappend\u001b[0m\u001b[0;34m(\u001b[0m\u001b[0mA\u001b[0m\u001b[0;34m[\u001b[0m\u001b[0mi\u001b[0m\u001b[0;34m]\u001b[0m\u001b[0;34m)\u001b[0m\u001b[0;34m\u001b[0m\u001b[0;34m\u001b[0m\u001b[0m\n\u001b[1;32m     14\u001b[0m         \u001b[0;32melif\u001b[0m \u001b[0mA\u001b[0m\u001b[0;34m[\u001b[0m\u001b[0mi\u001b[0m\u001b[0;34m]\u001b[0m \u001b[0;34m==\u001b[0m \u001b[0;34m']'\u001b[0m \u001b[0;32mor\u001b[0m \u001b[0mA\u001b[0m\u001b[0;34m[\u001b[0m\u001b[0mi\u001b[0m\u001b[0;34m]\u001b[0m \u001b[0;34m==\u001b[0m \u001b[0;34m'}'\u001b[0m \u001b[0;32mor\u001b[0m \u001b[0mA\u001b[0m\u001b[0;34m[\u001b[0m\u001b[0mi\u001b[0m\u001b[0;34m]\u001b[0m \u001b[0;34m==\u001b[0m \u001b[0;34m')'\u001b[0m\u001b[0;34m:\u001b[0m\u001b[0;34m\u001b[0m\u001b[0;34m\u001b[0m\u001b[0m\n\u001b[0;32m---> 15\u001b[0;31m             \u001b[0;32mif\u001b[0m \u001b[0marePairs\u001b[0m\u001b[0;34m(\u001b[0m\u001b[0mstack\u001b[0m\u001b[0;34m[\u001b[0m\u001b[0;34m-\u001b[0m\u001b[0;36m1\u001b[0m\u001b[0;34m]\u001b[0m\u001b[0;34m,\u001b[0m\u001b[0mA\u001b[0m\u001b[0;34m[\u001b[0m\u001b[0mi\u001b[0m\u001b[0;34m]\u001b[0m \u001b[0;32mor\u001b[0m \u001b[0mlen\u001b[0m\u001b[0;34m(\u001b[0m\u001b[0mstack\u001b[0m\u001b[0;34m)\u001b[0m\u001b[0;34m!=\u001b[0m\u001b[0;36m0\u001b[0m \u001b[0;34m)\u001b[0m\u001b[0;34m:\u001b[0m\u001b[0;34m\u001b[0m\u001b[0;34m\u001b[0m\u001b[0m\n\u001b[0m\u001b[1;32m     16\u001b[0m                 \u001b[0mstack\u001b[0m\u001b[0;34m.\u001b[0m\u001b[0mpop\u001b[0m\u001b[0;34m(\u001b[0m\u001b[0;34m)\u001b[0m\u001b[0;34m\u001b[0m\u001b[0;34m\u001b[0m\u001b[0m\n\u001b[1;32m     17\u001b[0m             \u001b[0;32melse\u001b[0m \u001b[0;34m:\u001b[0m\u001b[0;34m\u001b[0m\u001b[0;34m\u001b[0m\u001b[0m\n",
            "\u001b[0;31mIndexError\u001b[0m: list index out of range"
          ]
        }
      ]
    },
    {
      "cell_type": "code",
      "metadata": {
        "id": "dPP2pyJQZpEL"
      },
      "source": [
        "hi import numpy as np\n",
        "class nump:\n",
        " def __init__(self):\n",
        "      self.list=np.arange(10)\n",
        " def enqueue(self,data):\n",
        "      n=np.append(self.list,data)\n",
        "      return n\n",
        " def dequeue(self):\n",
        "    np.delete(self.list,0)\n",
        " def front(self):\n",
        "    return self.list[0]\n",
        " def rear(self):\n",
        "    return self.list[-1]\n",
        " def isempty(self):\n",
        "    if (len(self.list)==0):\n",
        "      return True\n",
        "    else:\n",
        "      return False\n",
        " def length(self):\n",
        "    return len(self.list)\n",
        " def display(self):\n",
        "    return self.list"
      ],
      "execution_count": null,
      "outputs": []
    },
    {
      "cell_type": "markdown",
      "metadata": {
        "id": "YyJgylWrQSMY"
      },
      "source": [
        "R-6.1 What values are returned during the following series of stack operations, if\n",
        "executed upon an initially empty stack? push(5), push(3), pop(), push(2),\n",
        "push(8), pop(), pop(), push(9), push(1), pop(), push(7), push(6), pop(),\n",
        "pop(), push(4), pop(), pop().\n",
        "\n",
        "***ANS***\n",
        "Operations performed according to the quetion are given below:\n",
        "\n",
        "1) Push(5):\n",
        "        When stack is empty and we execute function **Push(5)** then it push 5 into the empty stack and now the top is 5.\n",
        "\n",
        "2) Push(3):\n",
        "       After Push(5) operation when we execute **Push(3) **operation then it push 3 into the stack and now the top is 3. \n",
        "\n",
        "3) POP():\n",
        "       When **pop()** function executed then it first retrieve/fetch top value after that  delete that top value means it delete last value that push into stack means it delete 3 and now the top is 5.After pop it returns 3.\n",
        "\n",
        "4) Push(2):\n",
        "       After pop when we Push(2) then it push 2 into the stack and now the top is 2.\n",
        "\n",
        "5) Push(8):\n",
        "       After Push(2) function when we Push (8) then it append 8 into the stack and now the top is 8. Now in stack there are three values 5,2,8.\n",
        "\n",
        "6) POP():\n",
        "       When call function pop() then it fetch the top value 8 and delete the value 8. And now there are 5 and 2 are left in stack where 2 is Top.After pop() it returns 8.\n",
        "\n",
        "7) POP():\n",
        "      After Pop() again it returns 2 and now the top is 5.\n",
        "\n",
        "8) Push(9):\n",
        "      After Push(9) then it append 9 into the stack and now the top is 9. And now there is 5 and 9 in the stack.\n",
        "\n",
        "9) Push(1):\n",
        "      After Push(1) then it append 1 into the stack and now the top is 1. And now there is 5,9 and 1 values in the stack.\n",
        "\n",
        "10) Pop():\n",
        "      After pop() it delete top value 1 from stack and now there are 5 and 9 two values left in stack and 9 is top now.\n",
        "\n",
        "11) Push(7):\n",
        "      After push(7) it append 7 into the stack and now there is three values in the stack 5,9,7 and 7 is top now.\n",
        "\n",
        "12) Push(6):\n",
        "       After push(6) it append 6 into the stack and now there is four values in the stack 5,9,7,6 and 6 is top now.\n",
        "\n",
        "13) Pop():\n",
        "       When we pop from current stack which is 5,9,7,6 than it delete the top value 6 from stack.\n",
        "\n",
        "14) Pop():\n",
        "       After pop() again it delete top value 7 .\n",
        "\n",
        "15) Push(4):\n",
        "       After push(4) it append 4 in stack and now top is 4 and there are three values in stack 5,9,4.\n",
        "\n",
        "16) Pop():\n",
        "       Calling pop function it returns 4 and delete 4 from stack.\n",
        "\n",
        "17) Pop():\n",
        "      Calling pop function it returns 9 and delete 9 from stack because it is top. \n",
        "\n",
        "\n",
        "                               ------------\n",
        "\n",
        "And after perform all operations now there is one value left in stack which is 5 and it is top now.\n"
      ]
    },
    {
      "cell_type": "markdown",
      "metadata": {
        "id": "U6J17LXsiD_j"
      },
      "source": [
        "R-6.2 Suppose an initially empty stack S has executed a total of 25 push opera\u0002tions, 12 top operations, and 10 pop operations, 3 of which raised Empty errors that were caught and ignored. What is the current size of S?\n",
        "\n",
        "ANS:\n",
        "25 pushes = 25 index\n",
        "\n",
        "10 pops = 25 - 10 = 15\n",
        "\n",
        "3 pops rise empty errors and didn't change size of stack means only 7 pops occur changes = 25-7  = 18\n",
        "\n",
        "tops does not matter, so it should be 18`"
      ]
    },
    {
      "cell_type": "code",
      "metadata": {
        "colab": {
          "base_uri": "https://localhost:8080/"
        },
        "id": "hUcdQp9xUr3b",
        "outputId": "a01fb37d-6b2c-4d17-ea3a-a9d1248d4cc9"
      },
      "source": [
        "def arePairs(open,close):\n",
        "    if open=='[' and close==']':\n",
        "        return True\n",
        "    if open=='{' and close=='}':\n",
        "        return True\n",
        "    if open=='(' and close==')':\n",
        "        return True\n",
        "    return False\n",
        "\n",
        "def Balanced(A):\n",
        "    stack=[]\n",
        "    for i in range(len(A)):\n",
        "        if A[i]=='[' or A[i]=='{' or A[i]=='(':\n",
        "            stack.append(A[i])\n",
        "        elif A[i] == ']' or A[i] == '}' or A[i] == ')':\n",
        "            if arePairs(stack[-1],A[i]):\n",
        "                stack.pop()\n",
        "            else:\n",
        "               return False\n",
        "    if len(stack)==0:\n",
        "\n",
        "        print(\"Balanced\")\n",
        "    else:\n",
        "        print(\"Unbalanced\")\n",
        "\n",
        "\n",
        "A=input(\"Enter Parenthesis : \")\n",
        "print(Balanced(A))"
      ],
      "execution_count": null,
      "outputs": [
        {
          "name": "stdout",
          "output_type": "stream",
          "text": [
            "Enter Parenthesis : ((\n",
            "Unbalanced\n",
            "None\n"
          ]
        }
      ]
    },
    {
      "cell_type": "code",
      "metadata": {
        "colab": {
          "base_uri": "https://localhost:8080/"
        },
        "id": "-EiacA1Uuv2U",
        "outputId": "ef9e6735-994a-48d9-d79f-6c40d03901bc"
      },
      "source": [
        "q = queue()\n",
        "\n",
        "q.display()"
      ],
      "execution_count": null,
      "outputs": [
        {
          "data": {
            "text/plain": [
              "array([0, 1, 2, 3, 4, 5, 6, 7, 8, 9])"
            ]
          },
          "execution_count": 50,
          "metadata": {},
          "output_type": "execute_result"
        }
      ]
    },
    {
      "cell_type": "code",
      "metadata": {
        "colab": {
          "base_uri": "https://localhost:8080/"
        },
        "id": "f_C0AcAoebg0",
        "outputId": "c99f99c8-534d-4e5c-ee38-f753e69af289"
      },
      "source": [
        "q.enqueue(5)\n"
      ],
      "execution_count": null,
      "outputs": [
        {
          "data": {
            "text/plain": [
              "array([0, 1, 2, 3, 4, 5, 6, 7, 8, 9, 5])"
            ]
          },
          "execution_count": 51,
          "metadata": {},
          "output_type": "execute_result"
        }
      ]
    },
    {
      "cell_type": "code",
      "metadata": {
        "colab": {
          "base_uri": "https://localhost:8080/"
        },
        "id": "mdduuLtTe4HQ",
        "outputId": "0e75635a-d7c8-475e-980d-89aeb725be6e"
      },
      "source": [
        "q.dequeue()\n",
        "q.display()"
      ],
      "execution_count": null,
      "outputs": [
        {
          "data": {
            "text/plain": [
              "array([0, 1, 2, 3, 4])"
            ]
          },
          "execution_count": 48,
          "metadata": {},
          "output_type": "execute_result"
        }
      ]
    },
    {
      "cell_type": "code",
      "metadata": {
        "colab": {
          "base_uri": "https://localhost:8080/"
        },
        "id": "V9dtkg4Wug81",
        "outputId": "8d1e4e61-b59b-4abb-ef1e-a7f93c826623"
      },
      "source": [
        "#Clear Deleting Node\n",
        "class node:\n",
        "  def __init__(self,data=None):\n",
        "    self.data= data\n",
        "    self.next=None\n",
        "    \n",
        "class linkedlist:\n",
        "  def __init__(self):\n",
        "    self.head=node()\n",
        "  def append(self,data):\n",
        "    new_node=node(data)\n",
        "    curr=self.head\n",
        "    while curr.next!=None:\n",
        "      curr=curr.next\n",
        "    curr.next=new_node\n",
        "  def delete(self): \n",
        "   temp = self.head\n",
        "   while temp.next.next:\n",
        "    secondlast = temp.next\n",
        "    temp = temp.next\n",
        "   temp.next = None\n",
        "\n",
        "  print(\"All nodes are deleted successfully.\")  \n",
        "  def display(self):\n",
        "    curr=self.head\n",
        "    dis=[]\n",
        "    while curr.next!=None:\n",
        "      curr=curr.next\n",
        "      dis.append(curr.data)\n",
        "    print(dis)\n",
        "\n",
        "my_list=linkedlist()\n",
        "my_list.append(2)\n",
        "my_list.append(3)\n",
        "my_list.delete()\n",
        "\n",
        "my_list.display()"
      ],
      "execution_count": null,
      "outputs": [
        {
          "output_type": "stream",
          "name": "stdout",
          "text": [
            "All nodes are deleted successfully.\n",
            "[2]\n"
          ]
        }
      ]
    },
    {
      "cell_type": "code",
      "metadata": {
        "colab": {
          "base_uri": "https://localhost:8080/"
        },
        "id": "pZ14BlTn954Q",
        "outputId": "d6ff88db-3c36-4b8a-ef6c-344e2050f5e8"
      },
      "source": [
        "#Clear Insert at any index\n",
        "class Node:\n",
        "  def __init__(self, data):\n",
        "    self.data = data\n",
        "    self.next = None\n",
        "\n",
        "\n",
        "class LinkedList:\n",
        "  def __init__(self):\n",
        "    self.head = None\n",
        "\n",
        "  #Add new element at the end of the list\n",
        "  def push(self, newElement):\n",
        "    newNode = Node(newElement)\n",
        "    if(self.head == None):\n",
        "      self.head = newNode\n",
        "      return\n",
        "    else:\n",
        "      temp = self.head\n",
        "      while(temp.next != None):\n",
        "        temp = temp.next\n",
        "      temp.next = newNode\n",
        "\n",
        " \n",
        "  def push_at(self, newElement, position):     \n",
        "    newNode = Node(newElement) \n",
        "    if(position < 1):\n",
        "      print(\"\\nposition should be >= 1.\")\n",
        "    elif (position == 1):\n",
        "      newNode.next = self.head\n",
        "      self.head = newNode\n",
        "    else:    \n",
        "      temp = self.head\n",
        "      for i in range(1, position-1):\n",
        "        if(temp != None):\n",
        "          temp = temp.next   \n",
        "      if(temp != None):\n",
        "         newNode.next = temp.next\n",
        "         temp.next = newNode  \n",
        "      else:\n",
        "        print(\"\\nThe previous node is null.\")\n",
        "\n",
        "  \n",
        "  def PrintList(self):\n",
        "    temp = self.head\n",
        "    if(temp != None):\n",
        "      print(\"The list contains:\", end=\" \")\n",
        "      while (temp != None):\n",
        "        print(temp.data, end=\" \")\n",
        "        temp = temp.next\n",
        "      print()\n",
        "    else:\n",
        "      print(\"The list is empty.\")\n",
        "\n",
        "               \n",
        "MyList = LinkedList()\n",
        "\n",
        "\n",
        "MyList.push(10)\n",
        "MyList.push(20)\n",
        "MyList.PrintList()\n",
        "\n",
        "no=input(\"Enter a value \")\n",
        "num=int(input(\"Enter a index \"))\n",
        "MyList.push_at(no, num)\n",
        "MyList.PrintList()  "
      ],
      "execution_count": 3,
      "outputs": [
        {
          "output_type": "stream",
          "name": "stdout",
          "text": [
            "The list contains: 10 20 \n",
            "Enter a value 23\n",
            "Enter a index 2\n",
            "The list contains: 10 23 20 \n"
          ]
        }
      ]
    },
    {
      "cell_type": "code",
      "metadata": {
        "colab": {
          "base_uri": "https://localhost:8080/"
        },
        "id": "TJrj6H_dDwIp",
        "outputId": "20ef4f55-3360-4b3d-e0ad-f893edce2593"
      },
      "source": [
        "#Clear Append right and Append left\n",
        "class Node:\n",
        "  def __init__(self, data):\n",
        "    self.data = data\n",
        "    self.next = None\n",
        "\n",
        "#class Linked List\n",
        "class LinkedList:\n",
        "  def __init__(self):\n",
        "    self.head = None\n",
        "\n",
        "  #Append right\n",
        "  def push(self, newElement):\n",
        "    newNode = Node(newElement)\n",
        "    if(self.head == None):\n",
        "      self.head = newNode\n",
        "      return\n",
        "    else:\n",
        "      temp = self.head\n",
        "      while(temp.next != None):\n",
        "        temp = temp.next\n",
        "      temp.next = newNode  \n",
        "\n",
        "  #Append left\n",
        "  def push_front(self, newElement):\n",
        "\n",
        "    newNode = Node(newElement)\n",
        "    newNode.next = self.head \n",
        "    self.head = newNode   \n",
        "\n",
        "  #display the content of the list\n",
        "  def PrintList(self):\n",
        "    temp = self.head\n",
        "    if(temp != None):\n",
        "      print(\"The list contains:\", end=\" \")\n",
        "      while (temp != None):\n",
        "        print(temp.data, end=\" \")\n",
        "        temp = temp.next\n",
        "      print()\n",
        "    else:\n",
        "      print(\"The list is empty.\")\n",
        "\n",
        "# test the code                  \n",
        "MyList = LinkedList()\n",
        "\n",
        "#Add three elements at the start of the list.\n",
        "MyList.push_front(10)\n",
        "MyList.push_front(20)\n",
        "MyList.push_front(30)\n",
        "MyList.push(50)\n",
        "\n",
        "MyList.PrintList()"
      ],
      "execution_count": 7,
      "outputs": [
        {
          "output_type": "stream",
          "name": "stdout",
          "text": [
            "The list contains: 30 20 10 50 \n"
          ]
        }
      ]
    }
  ]
}